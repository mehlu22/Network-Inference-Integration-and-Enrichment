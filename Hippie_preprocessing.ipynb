{
 "cells": [
  {
   "cell_type": "code",
   "execution_count": 1,
   "metadata": {},
   "outputs": [],
   "source": [
    "# Step 1: Import necessary Python libraries\n",
    "import pandas as pd\n",
    "import numpy as np\n",
    "import matplotlib.pyplot as plt"
   ]
  },
  {
   "cell_type": "code",
   "execution_count": 2,
   "metadata": {},
   "outputs": [],
   "source": [
    "# Step 2: Read in the CSV file\n",
    "data = pd.read_csv('hippie-ppi.csv')"
   ]
  },
  {
   "cell_type": "code",
   "execution_count": 3,
   "metadata": {},
   "outputs": [
    {
     "name": "stdout",
     "output_type": "stream",
     "text": [
      "      to   from\n",
      "0  AL1A1  AL1A1\n",
      "1   ITA7   ACHA\n",
      "2   NEB1   ACTG\n",
      "3   SRGN   CD44\n",
      "4   GRB7  ERBB2\n",
      "<class 'pandas.core.frame.DataFrame'>\n",
      "RangeIndex: 411430 entries, 0 to 411429\n",
      "Data columns (total 2 columns):\n",
      " #   Column  Non-Null Count   Dtype \n",
      "---  ------  --------------   ----- \n",
      " 0   to      404479 non-null  object\n",
      " 1   from    409754 non-null  object\n",
      "dtypes: object(2)\n",
      "memory usage: 6.3+ MB\n",
      "None\n",
      "            to    from\n",
      "count   404479  409754\n",
      "unique   14616   16460\n",
      "top        H31      H4\n",
      "freq      6200    4508\n"
     ]
    }
   ],
   "source": [
    "# Step 3: Explore the data\n",
    "print(data.head())\n",
    "print(data.info())\n",
    "print(data.describe())"
   ]
  },
  {
   "cell_type": "code",
   "execution_count": 4,
   "metadata": {},
   "outputs": [],
   "source": [
    "# Step 4: Clean the data\n",
    "# Remove duplicates\n",
    "data.drop_duplicates(inplace=True)\n",
    "# Handle missing data\n",
    "data.dropna(inplace=True)"
   ]
  },
  {
   "cell_type": "code",
   "execution_count": null,
   "metadata": {},
   "outputs": [],
   "source": [
    "def correct_gene_name(gene_name):\n",
    "    \"\"\"\n",
    "    Corrects the gene names that are incorrectly formatted, such as \"01-Dec\" to \"DEC1\".\n",
    "    \"\"\"\n",
    "\n",
    "    # If the gene name is already correct, return it\n",
    "    if \"-\" not in gene_name:\n",
    "        return gene_name\n",
    "    \n",
    "    # A dictionary of incorrect gene names and their correct names.\n",
    "    gene_name_dict = {\n",
    "        \"01-Dec\": \"DEC1\",\n",
    "        \"01-Mar\": \"MARCH1\",\n",
    "        \"01-Sep\": \"SEPT1\",\n",
    "        \"02-Sep\": \"SEPT2\",\n",
    "        \"03-Sep\": \"SEPT3\",\n",
    "        \"04-Sep\": \"SEPT4\",\n",
    "        \"05-Sep\": \"SEPT5\",\n",
    "        \"06-Sep\": \"SEPT6\",\n",
    "        \"07-Sep\": \"SEPT7\",\n",
    "        \"08-Sep\": \"SEPT8\",\n",
    "        \"09-Sep\": \"SEPT9\",\n",
    "        \"10-Sep\": \"SEPT10\",\n",
    "        \"11-Sep\": \"SEPT11\",\n",
    "        \"12-Sep\": \"SEPT12\",\n",
    "        \"14-Sep\": \"SEPT14\",\n",
    "        \"15-Sep\": \"SEPT15\",\n",
    "    }\n",
    "\n",
    "    # Replace the incorrect gene names with the correct ones\n",
    "    corrected_name = gene_name_dict[gene_name]\n",
    "\n",
    "    return corrected_name\n",
    "\n",
    "\n",
    "data[[\"to\", \"from\"]] = data[[\"to\", \"from\"]].applymap(correct_gene_name)\n",
    "display(data.head())"
   ]
  },
  {
   "cell_type": "code",
   "execution_count": 7,
   "metadata": {},
   "outputs": [
    {
     "data": {
      "text/html": [
       "<div>\n",
       "<style scoped>\n",
       "    .dataframe tbody tr th:only-of-type {\n",
       "        vertical-align: middle;\n",
       "    }\n",
       "\n",
       "    .dataframe tbody tr th {\n",
       "        vertical-align: top;\n",
       "    }\n",
       "\n",
       "    .dataframe thead th {\n",
       "        text-align: right;\n",
       "    }\n",
       "</style>\n",
       "<table border=\"1\" class=\"dataframe\">\n",
       "  <thead>\n",
       "    <tr style=\"text-align: right;\">\n",
       "      <th></th>\n",
       "      <th>gene_1</th>\n",
       "      <th>gene_2</th>\n",
       "    </tr>\n",
       "  </thead>\n",
       "  <tbody>\n",
       "    <tr>\n",
       "      <th>3248</th>\n",
       "      <td>SEPT2</td>\n",
       "      <td>STX1A</td>\n",
       "    </tr>\n",
       "    <tr>\n",
       "      <th>3253</th>\n",
       "      <td>SEPT5</td>\n",
       "      <td>STX1A</td>\n",
       "    </tr>\n",
       "    <tr>\n",
       "      <th>3277</th>\n",
       "      <td>SEPT5</td>\n",
       "      <td>STX4</td>\n",
       "    </tr>\n",
       "  </tbody>\n",
       "</table>\n",
       "</div>"
      ],
      "text/plain": [
       "     gene_1 gene_2\n",
       "3248  SEPT2  STX1A\n",
       "3253  SEPT5  STX1A\n",
       "3277  SEPT5   STX4"
      ]
     },
     "execution_count": 7,
     "metadata": {},
     "output_type": "execute_result"
    }
   ],
   "source": [
    "# SEP genes are corrected.\n",
    "data.loc[[3248, 3253, 3277]]"
   ]
  },
  {
   "cell_type": "code",
   "execution_count": null,
   "metadata": {},
   "outputs": [],
   "source": [
    "# Step 5: Transform the data\n",
    "# Aggregation example\n",
    "grouped_data = data.groupby('to').agg({'from': 'sum'})"
   ]
  },
  {
   "cell_type": "code",
   "execution_count": null,
   "metadata": {},
   "outputs": [],
   "source": [
    "# Step 6: Export the data\n",
    "data.to_csv('preprocessed_data.csv', index=False)"
   ]
  }
 ],
 "metadata": {
  "kernelspec": {
   "display_name": "Python 3.9.6 64-bit",
   "language": "python",
   "name": "python3"
  },
  "language_info": {
   "codemirror_mode": {
    "name": "ipython",
    "version": 3
   },
   "file_extension": ".py",
   "mimetype": "text/x-python",
   "name": "python",
   "nbconvert_exporter": "python",
   "pygments_lexer": "ipython3",
   "version": "3.11.1"
  },
  "orig_nbformat": 4,
  "vscode": {
   "interpreter": {
    "hash": "31f2aee4e71d21fbe5cf8b01ff0e069b9275f58929596ceb00d14d90e3e16cd6"
   }
  }
 },
 "nbformat": 4,
 "nbformat_minor": 2
}
